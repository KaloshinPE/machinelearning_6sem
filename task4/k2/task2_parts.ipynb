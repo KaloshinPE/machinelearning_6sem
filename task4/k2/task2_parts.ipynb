{
 "cells": [
  {
   "cell_type": "code",
   "execution_count": 1,
   "metadata": {
    "collapsed": false
   },
   "outputs": [],
   "source": [
    "import pandas as pd\n",
    "import numpy as np\n",
    "from sklearn.feature_extraction.text import CountVectorizer\n",
    "from sklearn.ensemble import RandomForestClassifier\n",
    "from sklearn.linear_model import LogisticRegression\n",
    "from sklearn.model_selection import cross_val_score\n",
    "from sklearn.svm import SVC\n",
    "from sklearn.metrics import accuracy_score\n",
    "from sklearn.pipeline import Pipeline\n",
    "from sklearn.pipeline import make_pipeline"
   ]
  },
  {
   "cell_type": "code",
   "execution_count": 2,
   "metadata": {
    "collapsed": false
   },
   "outputs": [],
   "source": [
    "f2 = open('task2_lemmas_train_single', 'w')\n",
    "with open('task2_lemmas_train') as f:\n",
    "    for line in f:\n",
    "        f2.write(str(line.split(',')[0]) + ',' + str(line.split(',')[1]) + ',' + str(line.split(',')[2]) + '\\n')\n",
    "f.close()\n",
    "f2.close()"
   ]
  },
  {
   "cell_type": "code",
   "execution_count": 3,
   "metadata": {
    "collapsed": false
   },
   "outputs": [],
   "source": [
    "data = pd.read_csv('task2_lemmas_train_single', sep=',')"
   ]
  },
  {
   "cell_type": "code",
   "execution_count": 4,
   "metadata": {
    "collapsed": true
   },
   "outputs": [],
   "source": [
    "train = data[:len(data)/10*9]\n",
    "test = data[len(data)/10*9:]\n",
    "resultative = pd.read_csv('task2_lemmas_test', sep=',')\n",
    "example = pd.read_csv('task2_lemmas_test', sep=',')"
   ]
  },
  {
   "cell_type": "code",
   "execution_count": 5,
   "metadata": {
    "collapsed": false
   },
   "outputs": [],
   "source": [
    "#найти наибольшую общую последовательность\n",
    "def lcs(a, b):\n",
    "    a, b = (a, b) if len(a) < len(b) else (b, a)\n",
    "    pos = 0\n",
    "    substr = \"\"\n",
    "    search_str = a[:]\n",
    "    while ( pos != len(a) ):\n",
    "        while ( len(search_str) > len(substr) ):\n",
    "            if search_str in b:\n",
    "                substr = search_str[:]\n",
    "                break\n",
    "            else:\n",
    "                search_str = search_str[:-1]\n",
    "        pos += 1\n",
    "        search_str = a[pos:]\n",
    "    return substr"
   ]
  },
  {
   "cell_type": "code",
   "execution_count": 6,
   "metadata": {
    "collapsed": false
   },
   "outputs": [
    {
     "data": {
      "text/plain": [
       "'vergogn'"
      ]
     },
     "execution_count": 6,
     "metadata": {},
     "output_type": "execute_result"
    }
   ],
   "source": [
    "lcs('vergognerete', 'vergognare+V')"
   ]
  },
  {
   "cell_type": "code",
   "execution_count": 7,
   "metadata": {
    "collapsed": false
   },
   "outputs": [
    {
     "data": {
      "text/plain": [
       "'vergognerete'"
      ]
     },
     "execution_count": 7,
     "metadata": {},
     "output_type": "execute_result"
    }
   ],
   "source": [
    "train.iat[0,1]"
   ]
  },
  {
   "cell_type": "code",
   "execution_count": 8,
   "metadata": {
    "collapsed": false
   },
   "outputs": [
    {
     "name": "stderr",
     "output_type": "stream",
     "text": [
      "/home/pavel/anaconda2/lib/python2.7/site-packages/ipykernel/__main__.py:1: SettingWithCopyWarning: \n",
      "A value is trying to be set on a copy of a slice from a DataFrame.\n",
      "Try using .loc[row_indexer,col_indexer] = value instead\n",
      "\n",
      "See the caveats in the documentation: http://pandas.pydata.org/pandas-docs/stable/indexing.html#indexing-view-versus-copy\n",
      "  if __name__ == '__main__':\n",
      "/home/pavel/anaconda2/lib/python2.7/site-packages/ipykernel/__main__.py:2: SettingWithCopyWarning: \n",
      "A value is trying to be set on a copy of a slice from a DataFrame.\n",
      "Try using .loc[row_indexer,col_indexer] = value instead\n",
      "\n",
      "See the caveats in the documentation: http://pandas.pydata.org/pandas-docs/stable/indexing.html#indexing-view-versus-copy\n",
      "  from ipykernel import kernelapp as app\n",
      "/home/pavel/anaconda2/lib/python2.7/site-packages/ipykernel/__main__.py:3: SettingWithCopyWarning: \n",
      "A value is trying to be set on a copy of a slice from a DataFrame.\n",
      "Try using .loc[row_indexer,col_indexer] = value instead\n",
      "\n",
      "See the caveats in the documentation: http://pandas.pydata.org/pandas-docs/stable/indexing.html#indexing-view-versus-copy\n",
      "  app.launch_new_instance()\n",
      "/home/pavel/anaconda2/lib/python2.7/site-packages/ipykernel/__main__.py:4: SettingWithCopyWarning: \n",
      "A value is trying to be set on a copy of a slice from a DataFrame.\n",
      "Try using .loc[row_indexer,col_indexer] = value instead\n",
      "\n",
      "See the caveats in the documentation: http://pandas.pydata.org/pandas-docs/stable/indexing.html#indexing-view-versus-copy\n"
     ]
    }
   ],
   "source": [
    "train['root'] = [lcs(train.iat[i,1],train.iat[i,2]) for i in range(len(train))]\n",
    "train['y2'] = [train.iat[i,2][:-2] for i in range(len(train))]\n",
    "train['len_suf'] = [len(train.iat[i,1]) - len(train.iat[i,3]) for i in range(len(train))]\n",
    "train['part'] = [train.iat[i,2][-1] for i in range(len(train))]"
   ]
  },
  {
   "cell_type": "code",
   "execution_count": 9,
   "metadata": {
    "collapsed": false
   },
   "outputs": [
    {
     "name": "stderr",
     "output_type": "stream",
     "text": [
      "/home/pavel/anaconda2/lib/python2.7/site-packages/ipykernel/__main__.py:1: SettingWithCopyWarning: \n",
      "A value is trying to be set on a copy of a slice from a DataFrame.\n",
      "Try using .loc[row_indexer,col_indexer] = value instead\n",
      "\n",
      "See the caveats in the documentation: http://pandas.pydata.org/pandas-docs/stable/indexing.html#indexing-view-versus-copy\n",
      "  if __name__ == '__main__':\n"
     ]
    }
   ],
   "source": [
    "train['suf_y'] = [train.iat[i,4][-int(train.iat[i,5]):] for i in range(len(train))]"
   ]
  },
  {
   "cell_type": "code",
   "execution_count": 10,
   "metadata": {
    "collapsed": false
   },
   "outputs": [
    {
     "name": "stderr",
     "output_type": "stream",
     "text": [
      "/home/pavel/anaconda2/lib/python2.7/site-packages/ipykernel/__main__.py:1: SettingWithCopyWarning: \n",
      "A value is trying to be set on a copy of a slice from a DataFrame.\n",
      "Try using .loc[row_indexer,col_indexer] = value instead\n",
      "\n",
      "See the caveats in the documentation: http://pandas.pydata.org/pandas-docs/stable/indexing.html#indexing-view-versus-copy\n",
      "  if __name__ == '__main__':\n",
      "/home/pavel/anaconda2/lib/python2.7/site-packages/ipykernel/__main__.py:2: SettingWithCopyWarning: \n",
      "A value is trying to be set on a copy of a slice from a DataFrame.\n",
      "Try using .loc[row_indexer,col_indexer] = value instead\n",
      "\n",
      "See the caveats in the documentation: http://pandas.pydata.org/pandas-docs/stable/indexing.html#indexing-view-versus-copy\n",
      "  from ipykernel import kernelapp as app\n",
      "/home/pavel/anaconda2/lib/python2.7/site-packages/ipykernel/__main__.py:3: SettingWithCopyWarning: \n",
      "A value is trying to be set on a copy of a slice from a DataFrame.\n",
      "Try using .loc[row_indexer,col_indexer] = value instead\n",
      "\n",
      "See the caveats in the documentation: http://pandas.pydata.org/pandas-docs/stable/indexing.html#indexing-view-versus-copy\n",
      "  app.launch_new_instance()\n",
      "/home/pavel/anaconda2/lib/python2.7/site-packages/ipykernel/__main__.py:4: SettingWithCopyWarning: \n",
      "A value is trying to be set on a copy of a slice from a DataFrame.\n",
      "Try using .loc[row_indexer,col_indexer] = value instead\n",
      "\n",
      "See the caveats in the documentation: http://pandas.pydata.org/pandas-docs/stable/indexing.html#indexing-view-versus-copy\n",
      "/home/pavel/anaconda2/lib/python2.7/site-packages/ipykernel/__main__.py:5: SettingWithCopyWarning: \n",
      "A value is trying to be set on a copy of a slice from a DataFrame.\n",
      "Try using .loc[row_indexer,col_indexer] = value instead\n",
      "\n",
      "See the caveats in the documentation: http://pandas.pydata.org/pandas-docs/stable/indexing.html#indexing-view-versus-copy\n"
     ]
    }
   ],
   "source": [
    "test['root'] = [lcs(test.iat[i,1],test.iat[i,2]) for i in range(len(test))]\n",
    "test['y2'] = [test.iat[i,2][:-2] for i in range(len(test))]\n",
    "test['len_suf'] = [len(test.iat[i,1]) - len(test.iat[i,3]) for i in range(len(test))]\n",
    "test['part'] = [test.iat[i,2][-1] for i in range(len(test))]\n",
    "test['suf_y'] = [test.iat[i,4][-int(test.iat[i,5]):] for i in range(len(test))]"
   ]
  },
  {
   "cell_type": "code",
   "execution_count": 11,
   "metadata": {
    "collapsed": false
   },
   "outputs": [
    {
     "data": {
      "text/html": [
       "<div>\n",
       "<table border=\"1\" class=\"dataframe\">\n",
       "  <thead>\n",
       "    <tr style=\"text-align: right;\">\n",
       "      <th></th>\n",
       "      <th>Id</th>\n",
       "      <th>X</th>\n",
       "      <th>y</th>\n",
       "      <th>root</th>\n",
       "      <th>y2</th>\n",
       "      <th>len_suf</th>\n",
       "      <th>part</th>\n",
       "      <th>suf_y</th>\n",
       "    </tr>\n",
       "  </thead>\n",
       "  <tbody>\n",
       "    <tr>\n",
       "      <th>0</th>\n",
       "      <td>1</td>\n",
       "      <td>vergognerete</td>\n",
       "      <td>vergognare+V</td>\n",
       "      <td>vergogn</td>\n",
       "      <td>vergognare</td>\n",
       "      <td>5</td>\n",
       "      <td>V</td>\n",
       "      <td>gnare</td>\n",
       "    </tr>\n",
       "    <tr>\n",
       "      <th>1</th>\n",
       "      <td>2</td>\n",
       "      <td>amnistiavate</td>\n",
       "      <td>amnistiare+V</td>\n",
       "      <td>amnistia</td>\n",
       "      <td>amnistiare</td>\n",
       "      <td>4</td>\n",
       "      <td>V</td>\n",
       "      <td>iare</td>\n",
       "    </tr>\n",
       "    <tr>\n",
       "      <th>2</th>\n",
       "      <td>3</td>\n",
       "      <td>menomazione</td>\n",
       "      <td>menomazione+N</td>\n",
       "      <td>menomazione</td>\n",
       "      <td>menomazione</td>\n",
       "      <td>0</td>\n",
       "      <td>N</td>\n",
       "      <td>menomazione</td>\n",
       "    </tr>\n",
       "    <tr>\n",
       "      <th>3</th>\n",
       "      <td>4</td>\n",
       "      <td>sfaldavamo</td>\n",
       "      <td>sfaldare+V</td>\n",
       "      <td>sfalda</td>\n",
       "      <td>sfaldare</td>\n",
       "      <td>4</td>\n",
       "      <td>V</td>\n",
       "      <td>dare</td>\n",
       "    </tr>\n",
       "    <tr>\n",
       "      <th>4</th>\n",
       "      <td>5</td>\n",
       "      <td>sfodererei</td>\n",
       "      <td>sfoderare+V</td>\n",
       "      <td>sfoder</td>\n",
       "      <td>sfoderare</td>\n",
       "      <td>4</td>\n",
       "      <td>V</td>\n",
       "      <td>rare</td>\n",
       "    </tr>\n",
       "  </tbody>\n",
       "</table>\n",
       "</div>"
      ],
      "text/plain": [
       "   Id             X              y         root           y2  len_suf part  \\\n",
       "0   1  vergognerete   vergognare+V      vergogn   vergognare        5    V   \n",
       "1   2  amnistiavate   amnistiare+V     amnistia   amnistiare        4    V   \n",
       "2   3   menomazione  menomazione+N  menomazione  menomazione        0    N   \n",
       "3   4    sfaldavamo     sfaldare+V       sfalda     sfaldare        4    V   \n",
       "4   5    sfodererei    sfoderare+V       sfoder    sfoderare        4    V   \n",
       "\n",
       "         suf_y  \n",
       "0        gnare  \n",
       "1         iare  \n",
       "2  menomazione  \n",
       "3         dare  \n",
       "4         rare  "
      ]
     },
     "execution_count": 11,
     "metadata": {},
     "output_type": "execute_result"
    }
   ],
   "source": [
    "train[0:5]"
   ]
  },
  {
   "cell_type": "code",
   "execution_count": 12,
   "metadata": {
    "collapsed": false
   },
   "outputs": [
    {
     "data": {
      "text/html": [
       "<div>\n",
       "<table border=\"1\" class=\"dataframe\">\n",
       "  <thead>\n",
       "    <tr style=\"text-align: right;\">\n",
       "      <th></th>\n",
       "      <th>Id</th>\n",
       "      <th>X</th>\n",
       "      <th>y</th>\n",
       "      <th>root</th>\n",
       "      <th>y2</th>\n",
       "      <th>len_suf</th>\n",
       "      <th>part</th>\n",
       "      <th>suf_y</th>\n",
       "    </tr>\n",
       "  </thead>\n",
       "  <tbody>\n",
       "    <tr>\n",
       "      <th>106776</th>\n",
       "      <td>106777</td>\n",
       "      <td>disinteressato</td>\n",
       "      <td>disinteressato+A</td>\n",
       "      <td>disinteressato</td>\n",
       "      <td>disinteressato</td>\n",
       "      <td>0</td>\n",
       "      <td>A</td>\n",
       "      <td>disinteressato</td>\n",
       "    </tr>\n",
       "    <tr>\n",
       "      <th>106777</th>\n",
       "      <td>106778</td>\n",
       "      <td>corrispondemmo</td>\n",
       "      <td>corrispondere+V</td>\n",
       "      <td>corrisponde</td>\n",
       "      <td>corrispondere</td>\n",
       "      <td>3</td>\n",
       "      <td>V</td>\n",
       "      <td>ere</td>\n",
       "    </tr>\n",
       "    <tr>\n",
       "      <th>106778</th>\n",
       "      <td>106779</td>\n",
       "      <td>premunirebbero</td>\n",
       "      <td>premunire+V</td>\n",
       "      <td>premunire</td>\n",
       "      <td>premunire</td>\n",
       "      <td>5</td>\n",
       "      <td>V</td>\n",
       "      <td>unire</td>\n",
       "    </tr>\n",
       "    <tr>\n",
       "      <th>106779</th>\n",
       "      <td>106780</td>\n",
       "      <td>dedichiate</td>\n",
       "      <td>dedicare+V</td>\n",
       "      <td>dedic</td>\n",
       "      <td>dedicare</td>\n",
       "      <td>5</td>\n",
       "      <td>V</td>\n",
       "      <td>icare</td>\n",
       "    </tr>\n",
       "    <tr>\n",
       "      <th>106780</th>\n",
       "      <td>106781</td>\n",
       "      <td>cedoli</td>\n",
       "      <td>cedolare+V</td>\n",
       "      <td>cedol</td>\n",
       "      <td>cedolare</td>\n",
       "      <td>1</td>\n",
       "      <td>V</td>\n",
       "      <td>e</td>\n",
       "    </tr>\n",
       "  </tbody>\n",
       "</table>\n",
       "</div>"
      ],
      "text/plain": [
       "            Id               X                 y            root  \\\n",
       "106776  106777  disinteressato  disinteressato+A  disinteressato   \n",
       "106777  106778  corrispondemmo   corrispondere+V     corrisponde   \n",
       "106778  106779  premunirebbero       premunire+V       premunire   \n",
       "106779  106780      dedichiate        dedicare+V           dedic   \n",
       "106780  106781          cedoli        cedolare+V           cedol   \n",
       "\n",
       "                    y2  len_suf part           suf_y  \n",
       "106776  disinteressato        0    A  disinteressato  \n",
       "106777   corrispondere        3    V             ere  \n",
       "106778       premunire        5    V           unire  \n",
       "106779        dedicare        5    V           icare  \n",
       "106780        cedolare        1    V               e  "
      ]
     },
     "execution_count": 12,
     "metadata": {},
     "output_type": "execute_result"
    }
   ],
   "source": [
    "test[0:5]"
   ]
  },
  {
   "cell_type": "code",
   "execution_count": null,
   "metadata": {
    "collapsed": false
   },
   "outputs": [
    {
     "data": {
      "text/plain": [
       "0.93543492919757254"
      ]
     },
     "execution_count": 13,
     "metadata": {},
     "output_type": "execute_result"
    }
   ],
   "source": [
    "#1. сколько букв надо отрезать\n",
    "pipeline1 = Pipeline([(\"vectorizer\", CountVectorizer(ngram_range=(1, 8), analyzer='char_wb')), (\"algo\", LogisticRegression())])\n",
    "pipeline1.fit(train.X, train.len_suf)\n",
    "preds1 = pipeline1.predict(test.X)\n",
    "accuracy_score(test.len_suf, preds1)"
   ]
  },
  {
   "cell_type": "code",
   "execution_count": null,
   "metadata": {
    "collapsed": true
   },
   "outputs": [],
   "source": [
    "#2. какой суффикс у начальной формы\n",
    "pipeline2 = Pipeline([(\"vectorizer\", CountVectorizer(ngram_range=(1, 8), analyzer='char_wb')), (\"algo\", LogisticRegression())])\n",
    "pipeline2.fit(train.X, train.suf_y)\n",
    "preds2 = pipeline2.predict(test.X)\n",
    "print accuracy_score(test.suf_y, preds2)"
   ]
  },
  {
   "cell_type": "code",
   "execution_count": null,
   "metadata": {
    "collapsed": true
   },
   "outputs": [],
   "source": [
    "#3. какая часть речи\n",
    "pipeline3 = Pipeline([(\"vectorizer\", CountVectorizer(ngram_range=(1, 8), analyzer='char_wb')), (\"algo\", LogisticRegression())])\n",
    "pipeline3.fit(train.X, train.part)\n",
    "preds3 = pipeline3.predict(test.X)\n",
    "print accuracy_score(test.part, preds3)"
   ]
  },
  {
   "cell_type": "code",
   "execution_count": null,
   "metadata": {
    "collapsed": true
   },
   "outputs": [],
   "source": [
    "preds = [str(test.iat(i,1)[:-int(preds1[i])]) + str(preds2[i]) + '+' +str(preds3[i]) for i in range(len(test))]\n",
    "print accuracy_score(test.y, preds)"
   ]
  },
  {
   "cell_type": "code",
   "execution_count": null,
   "metadata": {
    "collapsed": true
   },
   "outputs": [],
   "source": [
    "\n",
    "\n",
    "'''result = pd.DataFrame({\"Answer\":preds, \"Id\":example.index})\n",
    "result.set_index('Id', inplace=True)\n",
    "result.to_csv('result5.csv')'''"
   ]
  }
 ],
 "metadata": {
  "kernelspec": {
   "display_name": "Python 2",
   "language": "python",
   "name": "python2"
  },
  "language_info": {
   "codemirror_mode": {
    "name": "ipython",
    "version": 2
   },
   "file_extension": ".py",
   "mimetype": "text/x-python",
   "name": "python",
   "nbconvert_exporter": "python",
   "pygments_lexer": "ipython2",
   "version": "2.7.13"
  }
 },
 "nbformat": 4,
 "nbformat_minor": 2
}
