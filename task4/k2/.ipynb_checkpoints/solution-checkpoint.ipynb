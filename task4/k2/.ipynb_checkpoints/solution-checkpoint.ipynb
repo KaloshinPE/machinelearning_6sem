{
 "cells": [
  {
   "cell_type": "code",
   "execution_count": 47,
   "metadata": {
    "collapsed": true
   },
   "outputs": [],
   "source": [
    "import numpy as np\n",
    "import matplotlib.pyplot as plt\n",
    "import pandas as pd\n",
    "import scipy as sc\n",
    "from sklearn.pipeline import Pipeline, make_pipeline\n",
    "from sklearn.feature_extraction.text import CountVectorizer\n",
    "from sklearn.model_selection import cross_val_score\n",
    "from sklearn.linear_model import LogisticRegression\n",
    "from sklearn.metrics import accuracy_score\n",
    "from scipy.sparse import csr_matrix, hstack\n",
    "from sklearn.preprocessing import OneHotEncoder"
   ]
  },
  {
   "cell_type": "code",
   "execution_count": 48,
   "metadata": {
    "collapsed": true
   },
   "outputs": [],
   "source": [
    "f = open('task2_lemmas_train')\n",
    "lines = []\n",
    "for line in f:\n",
    "    lines.append(line[:-2].decode('utf-8'))\n",
    "    \n",
    "train_data = []\n",
    "for line in lines[1:]:\n",
    "    array = line.split(',')\n",
    "    train_data.append([array[1], zip(map(lambda x: x[:-2], array[2:]), map(lambda x: x[-1], array[2:]))])\n",
    "    \n",
    "f = open('task2_lemmas_test')\n",
    "test_words = []\n",
    "for line in f:\n",
    "    test_words.append(line[:-2].decode('utf-8').split(',')[-1])\n",
    "test_words = test_words[1:]"
   ]
  },
  {
   "cell_type": "code",
   "execution_count": 49,
   "metadata": {
    "collapsed": true
   },
   "outputs": [],
   "source": [
    "def shortest_of(strings):\n",
    "    return min(strings, key=len)\n",
    "\n",
    "def long_substr(strings):\n",
    "    substr = \"\"\n",
    "    if not strings:\n",
    "        return substr\n",
    "    reference = shortest_of(strings) \n",
    "    length = len(reference)\n",
    "    for i in xrange(length):\n",
    "        for j in xrange(i + len(substr) + 1, length + 1):\n",
    "            candidate = reference[i:j]  \n",
    "            if all(candidate in text for text in strings):\n",
    "                substr = candidate\n",
    "    return substr\n",
    "\n",
    "def prefix(word, root):\n",
    "    for i in range(len(word)-len(root) + 1):\n",
    "        if word[i:i+len(root)] == root:\n",
    "            return word[:i]\n",
    "        \n",
    "def suffix(word, root):\n",
    "    ret = prefix(word[::-1], root[::-1])\n",
    "    return ret[::-1] if ret else u''\n",
    "\n",
    "def encode(array):\n",
    "    encoded = []\n",
    "    for elem in array:\n",
    "        if elem == 'N':\n",
    "            encoded.append(0)\n",
    "        if elem == 'V':\n",
    "            encoded.append(1)\n",
    "        if elem == 'A':\n",
    "            encoded.append(2)\n",
    "    return np.array(encoded)"
   ]
  },
  {
   "cell_type": "code",
   "execution_count": 50,
   "metadata": {
    "collapsed": true
   },
   "outputs": [],
   "source": [
    "train_dataset = [[], [], [], [], []]\n",
    "suffixes = []\n",
    "for elem in train_data:\n",
    "    strings = [elem[0]] + map(lambda x: x[0], elem[1])\n",
    "    root = long_substr(strings)\n",
    "    if root != '' and len(root) > 1:\n",
    "        if root[0] == '-':\n",
    "            root = root[1:]\n",
    "    train_dataset[0].append(elem[0])\n",
    "    train_dataset[1].append(suffix(elem[0], root))\n",
    "    train_dataset[2].append(elem[1][0][0])\n",
    "    train_dataset[3].append(suffix(elem[1][0][0], root))\n",
    "    train_dataset[4].append(elem[1][0][1])\n",
    "    for x in strings:\n",
    "        suff = suffix(x, root)\n",
    "        if suff:\n",
    "            suffixes.append(suff) \n",
    "        \n",
    "suffixes = sc.unique(suffixes)"
   ]
  },
  {
   "cell_type": "code",
   "execution_count": 51,
   "metadata": {
    "collapsed": true
   },
   "outputs": [],
   "source": [
    "train_suff_len = map(len, train_dataset[1])"
   ]
  },
  {
   "cell_type": "code",
   "execution_count": 35,
   "metadata": {
    "collapsed": false
   },
   "outputs": [
    {
     "name": "stdout",
     "output_type": "stream",
     "text": [
      "class predicted\n",
      "ending predicted\n",
      "len predicted\n",
      "CPU times: user 54min 20s, sys: 1min 15s, total: 55min 35s\n",
      "Wall time: 14min 24s\n"
     ]
    }
   ],
   "source": [
    "%%time\n",
    "cv = CountVectorizer(analyzer='char_wb', ngram_range=(1, 8), lowercase = True)\n",
    "X = cv.fit_transform(train_dataset[0] + test_words)\n",
    "X_train, X_test = X[:len(train_dataset[0])], X[len(train_dataset[0]):]\n",
    "clf = LogisticRegression(C=50)\n",
    "clf.fit(X_train, train_dataset[4])\n",
    "class_pred = clf.predict(X_test)\n",
    "print 'class predicted'\n",
    "\n",
    "cv = CountVectorizer(analyzer='char_wb', ngram_range=(1, 10), lowercase = True, max_df=0.5)\n",
    "X = cv.fit_transform(train_dataset[0] + test_words)\n",
    "X = csr_matrix(hstack([X, csr_matrix(train_suff_len + len_suff_pred.tolist()).transpose()]))\n",
    "X_train, X_test = X[:len(train_dataset[0])], X[len(train_dataset[0]):]\n",
    "clf.fit(X_train, train_suff_len)\n",
    "len_suff_pred = clf.predict(X_test)\n",
    "print 'len predicted'\n",
    "\n",
    "cv = CountVectorizer(analyzer='char_wb', ngram_range=(1, 7), lowercase = True)\n",
    "X = cv.fit_transform(train_dataset[0] + test_words)\n",
    "ohe = OneHotEncoder(sparse=False)\n",
    "dummy_features = ohe.fit_transform(encode(train_dataset[4] + class_pred.tolist()).reshape(-1, 1))\n",
    "X = csr_matrix(hstack([X, csr_matrix(dummy_features)]))\n",
    "X_train, X_test = X[:len(train_dataset[0])], X[len(train_dataset[0]):]\n",
    "clf.fit(X_train, train_dataset[3])\n",
    "ending_pred = clf.predict(X_test)\n",
    "print 'ending predicted'"
   ]
  },
  {
   "cell_type": "code",
   "execution_count": 56,
   "metadata": {
    "collapsed": false
   },
   "outputs": [],
   "source": [
    "predictions = []\n",
    "for i in range(len(len_suff_pred)):\n",
    "    cutted_word = test_words[i][:-len_suff_pred[i]] if len_suff_pred[i] > 0 else test_words[i]\n",
    "    predictions.append(cutted_word + ending_pred[i] + '+' + class_pred[i])"
   ]
  },
  {
   "cell_type": "code",
   "execution_count": 55,
   "metadata": {
    "collapsed": false
   },
   "outputs": [],
   "source": [
    "new_sub = pd.DataFrame({\"Category\":map(lambda x: x.encode('utf-8'), predictions), \"Id\":np.arange(len(predictions))+1})\n",
    "new_sub.set_index('Id', inplace=True)\n",
    "new_sub.to_csv('t_sub.csv')"
   ]
  },
  {
   "cell_type": "code",
   "execution_count": 40,
   "metadata": {
    "collapsed": false
   },
   "outputs": [
    {
     "name": "stdout",
     "output_type": "stream",
     "text": [
      "29661 29661\n",
      "[u'gettonan', u'incidentali', u'involtino', u'lievi', u'comunistizzasse', u'vidimerebbe', u'imbrodan', u'strillar', u'cifrasti', u'compassavano']\n"
     ]
    }
   ],
   "source": [
    "print len(predictions), len(test_words)\n",
    "print test_words[:10]"
   ]
  },
  {
   "cell_type": "code",
   "execution_count": 57,
   "metadata": {
    "collapsed": false
   },
   "outputs": [
    {
     "name": "stdout",
     "output_type": "stream",
     "text": [
      "[u'V' u'A' u'V' u'N' u'V']\n",
      "[u're' u'e' u'are' u'o' u're']\n",
      "[1 1 3 1 3]\n",
      "[u'gettonare+V', u'incidentale+A', u'involtare+V', u'lievo+N', u'comunistizzare+V']\n",
      "[u'gettonan', u'incidentali', u'involtino', u'lievi', u'comunistizzasse']\n"
     ]
    }
   ],
   "source": [
    "print class_pred[:5]\n",
    "print ending_pred[:5]\n",
    "print len_suff_pred[:5]\n",
    "print predictions[:5]\n",
    "print test_words[:5]"
   ]
  },
  {
   "cell_type": "code",
   "execution_count": null,
   "metadata": {
    "collapsed": true
   },
   "outputs": [],
   "source": []
  },
  {
   "cell_type": "code",
   "execution_count": null,
   "metadata": {
    "collapsed": true
   },
   "outputs": [],
   "source": []
  }
 ],
 "metadata": {
  "kernelspec": {
   "display_name": "Python 2",
   "language": "python",
   "name": "python2"
  },
  "language_info": {
   "codemirror_mode": {
    "name": "ipython",
    "version": 2
   },
   "file_extension": ".py",
   "mimetype": "text/x-python",
   "name": "python",
   "nbconvert_exporter": "python",
   "pygments_lexer": "ipython2",
   "version": "2.7.13"
  }
 },
 "nbformat": 4,
 "nbformat_minor": 2
}
