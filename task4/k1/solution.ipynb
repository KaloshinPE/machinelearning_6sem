{
 "cells": [
  {
   "cell_type": "code",
   "execution_count": 1,
   "metadata": {
    "collapsed": true
   },
   "outputs": [],
   "source": [
    "import pandas as pd\n",
    "import numpy as np\n",
    "import seaborn as sns\n",
    "import matplotlib.pyplot as plt\n",
    "from sklearn.feature_extraction.text import CountVectorizer, TfidfVectorizer\n",
    "from sklearn.ensemble import RandomForestClassifier, ExtraTreesClassifier\n",
    "from sklearn.linear_model import LogisticRegression\n",
    "from sklearn.model_selection import cross_val_score, StratifiedKFold\n",
    "from sklearn.svm import SVC\n",
    "from sklearn.metrics import roc_auc_score\n",
    "from scipy.sparse import csr_matrix, hstack, vstack, csc_matrix\n",
    "from nltk.stem import PorterStemmer\n",
    "import scipy as sc\n",
    "from sklearn.preprocessing import OneHotEncoder"
   ]
  },
  {
   "cell_type": "code",
   "execution_count": 2,
   "metadata": {
    "collapsed": false
   },
   "outputs": [
    {
     "name": "stderr",
     "output_type": "stream",
     "text": [
      "/home/pavel/anaconda2/lib/python2.7/site-packages/ipykernel/__main__.py:1: ParserWarning: Falling back to the 'python' engine because the 'c' engine does not support regex separators (separators > 1 char and different from '\\s+' are interpreted as regex); you can avoid this warning by specifying engine='python'.\n",
      "  if __name__ == '__main__':\n"
     ]
    }
   ],
   "source": [
    "train = pd.read_csv('train.txt', sep=', ', header=None)\n",
    "train.columns = ['word', 'y']\n",
    "#train = train.sample(frac=0.1, random_state=42)\n",
    "\n",
    "test = pd.read_csv('test.txt', header=None)\n",
    "test.columns = ['word']\n",
    "\n",
    "submission_example = pd.read_csv('submission_example.txt', sep=',')"
   ]
  },
  {
   "cell_type": "code",
   "execution_count": 3,
   "metadata": {
    "collapsed": true
   },
   "outputs": [],
   "source": [
    "all_data = pd.concat([train, test])"
   ]
  },
  {
   "cell_type": "code",
   "execution_count": 4,
   "metadata": {
    "collapsed": false
   },
   "outputs": [],
   "source": [
    "capital_elems_train = []\n",
    "for i in range(len(train)):\n",
    "    capital_elems_train.append(1 if unicode(train.word.values[i], 'utf-8').istitle() else 0)\n",
    "capital_elems_train = np.array(capital_elems_train)\n",
    "\n",
    "capital_elems_test = []\n",
    "for i in range(len(test)):\n",
    "    capital_elems_test.append(1 if unicode(test.word.values[i], 'utf-8').istitle() else 0)\n",
    "capital_elems_test = np.array(capital_elems_test)"
   ]
  },
  {
   "cell_type": "code",
   "execution_count": 5,
   "metadata": {
    "collapsed": false
   },
   "outputs": [],
   "source": [
    "w_length_train = []\n",
    "for word in train.word.values:\n",
    "    w_length_train.append(len(word))\n",
    "w_length_train = np.array(w_length_train)\n",
    "\n",
    "w_length_test = []\n",
    "for word in test.word.values:\n",
    "    w_length_test.append(len(word))\n",
    "w_length_test = np.array(w_length_test)"
   ]
  },
  {
   "cell_type": "code",
   "execution_count": 6,
   "metadata": {
    "collapsed": false
   },
   "outputs": [],
   "source": [
    "cv = CountVectorizer(input='content', analyzer='char_wb')\n",
    "X_all = cv.fit_transform(all_data.word) \n",
    "X_train, X_test = X_all[:len(train)], X_all[len(train):]\n",
    "y = train.y.values\n",
    "\n",
    "X_train = hstack([X_train, csr_matrix(capital_elems_train).transpose(), csr_matrix(w_length_train).transpose()]).toarray()\n",
    "X_test = hstack([X_test, csr_matrix(capital_elems_test).transpose(), csr_matrix(w_length_test).transpose()]).toarray()"
   ]
  },
  {
   "cell_type": "code",
   "execution_count": 7,
   "metadata": {
    "collapsed": false
   },
   "outputs": [],
   "source": [
    "clf = RandomForestClassifier(n_estimators=35, min_samples_split=60)\n",
    "clf.fit(X_train, y)\n",
    "preds = clf.predict_proba(X_test)[:,1]"
   ]
  },
  {
   "cell_type": "code",
   "execution_count": 8,
   "metadata": {
    "collapsed": false
   },
   "outputs": [],
   "source": [
    "new_sub = pd.DataFrame({\"Answer\":preds, \"Id\":submission_example.index})\n",
    "new_sub.set_index('Id', inplace=True)\n",
    "new_sub.to_csv('t_sub.csv')"
   ]
  },
  {
   "cell_type": "code",
   "execution_count": 8,
   "metadata": {
    "collapsed": false
   },
   "outputs": [
    {
     "name": "stdout",
     "output_type": "stream",
     "text": [
      "here\n",
      "here\n",
      "here\n",
      "here\n",
      "here\n",
      "0.671581313635\n"
     ]
    }
   ],
   "source": [
    "def cross_validation(clf, X=X_train, y=y):\n",
    "    cv = StratifiedKFold(n_splits=5)\n",
    "    scores = []\n",
    "    for train, test in cv.split(X, y):\n",
    "        clf.fit(X[train], y[train])\n",
    "        scores.append(roc_auc_score(y[test], clf.predict_proba(X[test])[:,1]))\n",
    "        print 'here'\n",
    "    return np.mean(scores)\n",
    "\n",
    "print cross_validation(LogisticRegression(C=6.6))"
   ]
  }
 ],
 "metadata": {
  "kernelspec": {
   "display_name": "Python 2",
   "language": "python",
   "name": "python2"
  },
  "language_info": {
   "codemirror_mode": {
    "name": "ipython",
    "version": 2
   },
   "file_extension": ".py",
   "mimetype": "text/x-python",
   "name": "python",
   "nbconvert_exporter": "python",
   "pygments_lexer": "ipython2",
   "version": "2.7.13"
  }
 },
 "nbformat": 4,
 "nbformat_minor": 2
}
