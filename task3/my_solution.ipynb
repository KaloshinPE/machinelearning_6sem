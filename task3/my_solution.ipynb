{
 "cells": [
  {
   "cell_type": "code",
   "execution_count": 507,
   "metadata": {
    "collapsed": false
   },
   "outputs": [
    {
     "name": "stdout",
     "output_type": "stream",
     "text": [
      "Populating the interactive namespace from numpy and matplotlib\n"
     ]
    },
    {
     "name": "stderr",
     "output_type": "stream",
     "text": [
      "/home/pavel/anaconda2/lib/python2.7/site-packages/IPython/core/magics/pylab.py:161: UserWarning: pylab import has clobbered these variables: ['step']\n",
      "`%matplotlib` prevents importing * from pylab and numpy\n",
      "  \"\\n`%matplotlib` prevents importing * from pylab and numpy\"\n"
     ]
    }
   ],
   "source": [
    "import pandas as pd\n",
    "import scipy as sc\n",
    "import numpy as np\n",
    "from sklearn.preprocessing import OneHotEncoder\n",
    "import matplotlib.pyplot as plt\n",
    "from sklearn.preprocessing import MinMaxScaler\n",
    "from sklearn.ensemble import GradientBoostingRegressor, RandomForestRegressor, ExtraTreesRegressor\n",
    "from sklearn.neighbors import KNeighborsRegressor\n",
    "from sklearn.model_selection import TimeSeriesSplit, GridSearchCV\n",
    "%pylab inline\n",
    "pylab.rcParams['figure.figsize'] = (15, 10)"
   ]
  },
  {
   "cell_type": "code",
   "execution_count": 508,
   "metadata": {
    "collapsed": true
   },
   "outputs": [],
   "source": [
    "train = pd.read_csv(\"train.tsv\")\n",
    "test = pd.read_csv(\"test.tsv\")\n",
    "sample_submission = pd.read_csv(\"sample_submission.tsv\")\n",
    "#train = train.sample(frac=0.1, random_state=42)"
   ]
  },
  {
   "cell_type": "code",
   "execution_count": 509,
   "metadata": {
    "collapsed": false
   },
   "outputs": [],
   "source": [
    "all_data = pd.concat([train, test])"
   ]
  },
  {
   "cell_type": "code",
   "execution_count": 510,
   "metadata": {
    "collapsed": false
   },
   "outputs": [],
   "source": [
    "ohe = OneHotEncoder(sparse=False)\n",
    "\n",
    "dummy_features = ohe.fit_transform(all_data['item_id'].values.reshape(-1, 1))\n",
    "dummy_features = pd.DataFrame(dummy_features, columns=['good = ' + str(x) for x in range(dummy_features.shape[1])])\n",
    "all_data.index = dummy_features.index\n",
    "new_all_data = pd.concat([all_data, dummy_features], axis=1)"
   ]
  },
  {
   "cell_type": "code",
   "execution_count": 511,
   "metadata": {
    "collapsed": true
   },
   "outputs": [],
   "source": [
    "dummy_features = ohe.fit_transform(new_all_data['week'].values.reshape(-1, 1))\n",
    "dummy_features = pd.DataFrame(dummy_features, columns=['week = ' + str(x) for x in range(dummy_features.shape[1])])\n",
    "new_all_data.index = dummy_features.index\n",
    "new_all_data = pd.concat([new_all_data, dummy_features], axis=1).drop(['week'], axis=1)"
   ]
  },
  {
   "cell_type": "code",
   "execution_count": 512,
   "metadata": {
    "collapsed": true
   },
   "outputs": [],
   "source": [
    "dummy_features = ohe.fit_transform(new_all_data['year'].values.reshape(-1, 1))\n",
    "dummy_features = pd.DataFrame(dummy_features, columns=['year = ' + str(x) for x in range(dummy_features.shape[1])])\n",
    "new_all_data.index = dummy_features.index\n",
    "new_all_data = pd.concat([new_all_data, dummy_features], axis=1).drop(['year'], axis=1)"
   ]
  },
  {
   "cell_type": "code",
   "execution_count": 513,
   "metadata": {
    "collapsed": false
   },
   "outputs": [],
   "source": [
    "new_train = new_all_data.drop(['item_id', 'Num'], axis=1)[:len(train)]\n",
    "new_test = new_all_data.drop(['item_id', 'Num'], axis=1)[len(train):]\n",
    "new_test = new_test.drop(['y'], axis=1)"
   ]
  },
  {
   "cell_type": "code",
   "execution_count": 514,
   "metadata": {
    "collapsed": true
   },
   "outputs": [],
   "source": [
    "X_train, y_train = new_train.drop(['y'], axis=1).as_matrix(), new_train['y'].values\n",
    "X_test = new_test.as_matrix()"
   ]
  },
  {
   "cell_type": "code",
   "execution_count": 215,
   "metadata": {
    "collapsed": true
   },
   "outputs": [],
   "source": [
    "class sum_regressor:\n",
    "    def __init__(self, bootstrap=True, b_coeff = 0.8):\n",
    "        self.estimators = [KNeighborsRegressor(n_neighbors=5, p=2), \n",
    "                          RandomForestRegressor(n_estimators=130, max_depth=9), \n",
    "                          #GradientBoostingRegressor(n_estimators=120, max_depth=8, loss='lad'), \n",
    "                          ExtraTreesRegressor(n_estimators=70)]\n",
    "        self.weights = [1, 1, 1]\n",
    "        #self.weights = [2, 1, 7, 14]\n",
    "        self.bootstrap = bootstrap\n",
    "        self.b_coeff = b_coeff\n",
    "    def fit(self, X, y):\n",
    "        for est in self.estimators:\n",
    "            if not self.bootstrap:\n",
    "                est.fit(X, y)\n",
    "            else: \n",
    "                b_index = np.random.randint(len(y), size=self.b_coeff * len(y))\n",
    "                est.fit(X[b_index], y[b_index])\n",
    "\n",
    "    def predict(self, X):\n",
    "        predictions = np.zeros(len(X))\n",
    "        for i in range(len(self.estimators)):\n",
    "            predictions += self.weights[i]*self.estimators[i].predict(X)\n",
    "        return predictions/np.sum(self.weights)\n",
    "    \n",
    "    def separate_predict(self, X):\n",
    "        predictions = []\n",
    "        for i in range(len(self.estimators)):\n",
    "            predictions.append(self.estimators[i].predict(X))\n",
    "        return predictions"
   ]
  },
  {
   "cell_type": "code",
   "execution_count": 515,
   "metadata": {
    "collapsed": false
   },
   "outputs": [],
   "source": [
    "est = new_est()\n",
    "est.fit(X_train, y_train)\n",
    "preds = est.predict(X_test)"
   ]
  },
  {
   "cell_type": "code",
   "execution_count": 516,
   "metadata": {
    "collapsed": false
   },
   "outputs": [],
   "source": [
    "sample_submission['y'] = preds\n",
    "sample_submission.set_index('Num', inplace=True)\n",
    "sample_submission.to_csv('submission.csv')"
   ]
  },
  {
   "cell_type": "code",
   "execution_count": 520,
   "metadata": {
    "collapsed": true
   },
   "outputs": [],
   "source": [
    "def test_estimator_onm(estimator):\n",
    "    def do_stuff(X, y):\n",
    "        tscv = TimeSeriesSplit(n_splits=5)\n",
    "        score = []\n",
    "        for train_index, test_index in tscv.split(X):\n",
    "            estimator.fit(X[train_index], y[train_index])\n",
    "            prediction = estimator.predict(X[test_index])\n",
    "            score.append(SMAPE(y[test_index], prediction))\n",
    "        print score\n",
    "        return np.mean(score)\n",
    "    return do_stuff(new_train.drop(['y'], axis=1).as_matrix(), new_train['y'].values)\n",
    "\n",
    "def test_estimator_onm_transformed(estimator):\n",
    "    def do_stuff(X, y):\n",
    "        offset = 1000000000\n",
    "        y_new = y + offset\n",
    "        y_mean = np.mean(y_new)\n",
    "        y_transformed = y_new/(2.0**0.5*y_mean)\n",
    "        #y_transformed = y/offset\n",
    "        tscv = TimeSeriesSplit(n_splits=3)\n",
    "        score = []\n",
    "        for train_index, test_index in tscv.split(X):\n",
    "            estimator.fit(X[train_index], y_transformed[train_index])\n",
    "            prediction = estimator.predict(X[test_index])\n",
    "            prediction = prediction * (2.0**0.5*y_mean)**0.5 - offset\n",
    "            #prediction = prediction*offset\n",
    "            prediction = map(lambda x: 0 if x<0 else x, prediction)\n",
    "            score.append(SMAPE(y[test_index], prediction))\n",
    "        print score\n",
    "        return np.mean(score)\n",
    "    return do_stuff(new_train.drop(['y'], axis=1).as_matrix(), new_train['y'].values)"
   ]
  },
  {
   "cell_type": "code",
   "execution_count": 217,
   "metadata": {
    "collapsed": false
   },
   "outputs": [
    {
     "name": "stdout",
     "output_type": "stream",
     "text": [
      "[31.058982920800855, 28.800522842343913, 27.924290415587677]\n"
     ]
    },
    {
     "data": {
      "text/plain": [
       "29.261265392910815"
      ]
     },
     "execution_count": 217,
     "metadata": {},
     "output_type": "execute_result"
    }
   ],
   "source": [
    "test_estimator_onm(GradientBoostingRegressor(loss='lad', n_estimators=70, max_depth=9))"
   ]
  },
  {
   "cell_type": "code",
   "execution_count": 224,
   "metadata": {
    "collapsed": false
   },
   "outputs": [
    {
     "name": "stdout",
     "output_type": "stream",
     "text": [
      "[27.861377197140509, 26.703322442543541, 26.046501239356338]\n"
     ]
    },
    {
     "data": {
      "text/plain": [
       "26.870400293013461"
      ]
     },
     "execution_count": 224,
     "metadata": {},
     "output_type": "execute_result"
    }
   ],
   "source": [
    "test_estimator_onm(ExtraTreesRegressor(n_estimators=70))"
   ]
  },
  {
   "cell_type": "code",
   "execution_count": 302,
   "metadata": {
    "collapsed": false
   },
   "outputs": [
    {
     "name": "stdout",
     "output_type": "stream",
     "text": [
      "[29.12109547594709, 28.362772028821286, 27.271926994623495]\n"
     ]
    },
    {
     "data": {
      "text/plain": [
       "28.251931499797291"
      ]
     },
     "execution_count": 302,
     "metadata": {},
     "output_type": "execute_result"
    }
   ],
   "source": [
    "test_estimator_onm(RandomForestRegressor(n_estimators=70))"
   ]
  },
  {
   "cell_type": "code",
   "execution_count": 521,
   "metadata": {
    "collapsed": false
   },
   "outputs": [],
   "source": [
    "class new_est:\n",
    "    def __init__(self):\n",
    "        self.est =ExtraTreesRegressor(n_estimators=70)\n",
    "    \n",
    "    def fit(self, X, y):\n",
    "        self.est.fit(X, np.log(y))\n",
    "        \n",
    "    def predict(self, X):\n",
    "        return np.exp(self.est.predict(X))\n",
    "        "
   ]
  },
  {
   "cell_type": "code",
   "execution_count": 522,
   "metadata": {
    "collapsed": false
   },
   "outputs": [
    {
     "name": "stdout",
     "output_type": "stream",
     "text": [
      "[30.55107659950329, 27.377445805690353, 21.683351162781982, 20.674164389416759, 33.420223977884397]\n"
     ]
    },
    {
     "data": {
      "text/plain": [
       "26.741252387055358"
      ]
     },
     "execution_count": 522,
     "metadata": {},
     "output_type": "execute_result"
    }
   ],
   "source": [
    "test_estimator_onm(new_est())"
   ]
  },
  {
   "cell_type": "code",
   "execution_count": 284,
   "metadata": {
    "collapsed": false
   },
   "outputs": [
    {
     "name": "stdout",
     "output_type": "stream",
     "text": [
      "[31.026103329891157, 29.342177023481952, 28.469331322739418]\n"
     ]
    },
    {
     "data": {
      "text/plain": [
       "29.612537225370843"
      ]
     },
     "execution_count": 284,
     "metadata": {},
     "output_type": "execute_result"
    }
   ],
   "source": [
    "test_estimator_onm(RandomForestRegressor())"
   ]
  },
  {
   "cell_type": "code",
   "execution_count": 517,
   "metadata": {
    "collapsed": false
   },
   "outputs": [],
   "source": [
    "values = []\n",
    "step = 0.0001\n",
    "def sigmoid(x):\n",
    "    return 1.0/(1 + np.exp(x))\n",
    "#y_t = 1.0/(1 + np.exp(-0.1**9 *y))\n",
    "#y_t = np.cos(1 + np.log(y)**0.5/10)\n",
    "y_t = np.log(y)\n",
    "for i in np.arange(np.min(y_t), np.max(y_t), step):\n",
    "    a = y_t[ y_t >= i]\n",
    "    values.append(len(a[a < i + step]))"
   ]
  },
  {
   "cell_type": "code",
   "execution_count": 518,
   "metadata": {
    "collapsed": false
   },
   "outputs": [
    {
     "data": {
      "text/plain": [
       "[<matplotlib.lines.Line2D at 0x7fcbf76854d0>]"
      ]
     },
     "execution_count": 518,
     "metadata": {},
     "output_type": "execute_result"
    },
    {
     "data": {
      "image/png": "[encoded data removed]",
      "text/plain": [
       "<matplotlib.figure.Figure at 0x7fcbf76a92d0>"
      ]
     },
     "metadata": {},
     "output_type": "display_data"
    }
   ],
   "source": [
    "plt.plot(np.arange(np.min(y_t), np.max(y_t), step), values)\n",
    "#plt.axis([0, 1000000, 0, 25])"
   ]
  },
  {
   "cell_type": "code",
   "execution_count": null,
   "metadata": {
    "collapsed": true
   },
   "outputs": [],
   "source": []
  },
  {
   "cell_type": "code",
   "execution_count": null,
   "metadata": {
    "collapsed": true
   },
   "outputs": [],
   "source": []
  }
 ],
 "metadata": {
  "kernelspec": {
   "display_name": "Python 2",
   "language": "python",
   "name": "python2"
  },
  "language_info": {
   "codemirror_mode": {
    "name": "ipython",
    "version": 2
   },
   "file_extension": ".py",
   "mimetype": "text/x-python",
   "name": "python",
   "nbconvert_exporter": "python",
   "pygments_lexer": "ipython2",
   "version": "2.7.13"
  }
 },
 "nbformat": 4,
 "nbformat_minor": 0
}
