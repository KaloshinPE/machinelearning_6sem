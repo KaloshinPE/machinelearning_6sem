{
 "cells": [
  {
   "cell_type": "code",
   "execution_count": 67,
   "metadata": {
    "collapsed": false
   },
   "outputs": [],
   "source": [
    "import pandas as pd\n",
    "import scipy as sc\n",
    "import numpy as np\n",
    "from sklearn.preprocessing import OneHotEncoder"
   ]
  },
  {
   "cell_type": "code",
   "execution_count": 81,
   "metadata": {
    "collapsed": true
   },
   "outputs": [],
   "source": [
    "train = pd.read_csv(\"train.tsv\")\n",
    "test = pd.read_csv(\"test.tsv\")\n",
    "sample_submission = pd.read_csv(\"sample_submission.tsv\")\n",
    "train = train.sample(frac=0.1, random_state=42)"
   ]
  },
  {
   "cell_type": "code",
   "execution_count": 48,
   "metadata": {
    "collapsed": false
   },
   "outputs": [
    {
     "name": "stdout",
     "output_type": "stream",
     "text": [
      "25.9713261649\n",
      "21\n"
     ]
    }
   ],
   "source": [
    "print float(len(train['item_id'].values))/len(sc.unique(train['item_id'].values))\n",
    "print len(train[train['year'] == 2012])"
   ]
  },
  {
   "cell_type": "code",
   "execution_count": 57,
   "metadata": {
    "collapsed": true
   },
   "outputs": [],
   "source": [
    "def SMAPE(target, prediction):\n",
    "    return 200*np.mean(np.abs(target-prediction)/(np.abs(target) + np.abs(prediction)))"
   ]
  },
  {
   "cell_type": "code",
   "execution_count": 101,
   "metadata": {
    "collapsed": false
   },
   "outputs": [],
   "source": [
    "def validate(estimator, train_data):\n",
    "    def do_stuff(indexes):\n",
    "        estimator.fit(X[X['year'] < 2014], y[X['year'] < 2014])\n",
    "    pred1 = estimator.predict(X[X['year'] == 2014])\n",
    "    score1 = SMAPE(pred1, y[X['year'] == 2014])\n",
    "    print \"trained on 2012, 2013, prediction for 2014: \" + str(score1)\n",
    "    X = train_data.drop(['Num','y'], axis=1)\n",
    "    y = train_data['y']\n",
    "    estimator.fit(X[X['year'] < 2014], y[X['year'] < 2014])\n",
    "    pred1 = estimator.predict(X[X['year'] == 2014])\n",
    "    score1 = SMAPE(pred1, y[X['year'] == 2014])\n",
    "    print \"trained on 2012, 2013, prediction for 2014: \" + str(score1)\n",
    "    pred2 = estimator.predict(X[X['year'] == 2015])\n",
    "    score2 = \n",
    "    print \"trained on 2012, 2013, prediction for 2015: \" + str(SMAPE(pred2, y[X['year'] == 2015]))\n",
    "    estimator.fit(X[X['year'] < 2015], y[X['year'] < 2015])\n",
    "    pred3 = estimator.predict(X[X['year'] == 2015])\n",
    "    print \"trained on 2012 - 2014 prediction for 2015: \" + str(SMAPE(pred3, y[X['year'] == 2015]))\n",
    "    estimator.fit(X[X['year'] == 2014], y[X['year'] == 2014])\n",
    "    pred4 = estimator.predict(X[X['year'] == 2015])\n",
    "    print \"trained on 2014 prediction for 2015: \" + str(SMAPE(pred4, y[X['year'] == 2015]))"
   ]
  },
  {
   "cell_type": "code",
   "execution_count": 96,
   "metadata": {
    "collapsed": false
   },
   "outputs": [],
   "source": [
    "ohe = OneHotEncoder(sparse=False)\n",
    "dummy_features = ohe.fit_transform(train['item_id'].values.reshape(-1, 1))\n",
    "train.index = dummy_features.index\n",
    "dummy_features = pd.DataFrame(dummy_features, columns=['good = ' + str(x) for x in range(dummy_features.shape[1])])\n",
    "new_train = pd.concat([train, dummy_features], axis=1)"
   ]
  },
  {
   "cell_type": "code",
   "execution_count": 117,
   "metadata": {
    "collapsed": true
   },
   "outputs": [],
   "source": [
    "def test_alg(loss, n_estimators=50):\n",
    "    print 'loss: ' + loss \n",
    "    print 'estimators: ' + str(n_estomators)\n",
    "    from sklearn.ensemble import GradientBoostingRegressor\n",
    "    model = GradientBoostingRegressor(loss=loss, n_estimators=n_estimators, max_depth=5, random_state=43)\n",
    "    print 'raw: '\n",
    "    validate(model, train)\n",
    "    print 'modified: '\n",
    "    validate(model, new_train.drop(['item_id'], axis=1))"
   ]
  },
  {
   "cell_type": "code",
   "execution_count": 116,
   "metadata": {
    "collapsed": false
   },
   "outputs": [
    {
     "name": "stdout",
     "output_type": "stream",
     "text": [
      "\n",
      "lad\n",
      "raw: \n",
      "trained on 2012, 2013, prediction for 2014: 32.0979079454\n",
      "trained on 2012, 2013, prediction for 2015: 67.1508803249\n",
      "trained on 2012 - 2014 prediction for 2015: 78.1886687202\n",
      "trained on 2014 prediction for 2015: 83.8649757733\n",
      "modified: \n",
      "trained on 2012, 2013, prediction for 2014: 31.1559459311\n",
      "trained on 2012, 2013, prediction for 2015: 69.6617026431\n",
      "trained on 2012 - 2014 prediction for 2015: 75.7325021779\n",
      "trained on 2014 prediction for 2015: 81.2163945089\n"
     ]
    }
   ],
   "source": [
    "for i in [1, 5, 10, 15, 20, 30, 40, 50]:\n",
    "test_alg('lad')"
   ]
  },
  {
   "cell_type": "code",
   "execution_count": null,
   "metadata": {
    "collapsed": true
   },
   "outputs": [],
   "source": []
  }
 ],
 "metadata": {
  "kernelspec": {
   "display_name": "Python 2",
   "language": "python",
   "name": "python2"
  },
  "language_info": {
   "codemirror_mode": {
    "name": "ipython",
    "version": 2
   },
   "file_extension": ".py",
   "mimetype": "text/x-python",
   "name": "python",
   "nbconvert_exporter": "python",
   "pygments_lexer": "ipython2",
   "version": "2.7.13"
  }
 },
 "nbformat": 4,
 "nbformat_minor": 0
}
