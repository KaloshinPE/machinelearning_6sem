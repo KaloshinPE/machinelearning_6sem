{
 "cells": [
  {
   "cell_type": "markdown",
   "metadata": {},
   "source": [
    "<span style=\"font-size: 14pt\">Домашнее задание №8 </span>\n",
    "\n",
    "<span style=\"color: red; font-size: 14pt\">Deadline: 20.05.2017 23:59:59</span>\n",
    "\n",
    "<span style=\"font-size: 10pt\">ФИВТ, АПТ, Курс по машинному обучению, Весна 2017, Модуль Unspervised Learning, </span>\n",
    "\n",
    "<span style=\"color:blue; font-size: 10pt\">Alexey Romanenko, </span>\n",
    "<span style=\"color:blue; font-size: 10pt; font-family: 'Verdana'\">alexromsput@gmail.com</span>\n"
   ]
  },
  {
   "cell_type": "markdown",
   "metadata": {},
   "source": [
    "<h1 align=\"center\">Organization Info</h1> "
   ]
  },
  {
   "cell_type": "markdown",
   "metadata": {},
   "source": [
    "**Дополнительный материал для выполнения дз**:\n",
    "- Воронцов К. В. Математические методы обучения по прецедентам. 2012. http://www.machinelearning.ru/wiki/images/6/6d/Voron-ML-1.pdf (разделы 5.2 и 7.1)\n",
    "- Hastie T., Tibshirani R., Friedman J. The Elements of Statistical Learning. Springer: Data Mining, Inference, and Prediction.  — 2nd ed. — Springer-Verlag. 2009. — 746 p.http://statweb.stanford.edu/~tibs/ElemStatLearn/printings/ESLII_print10.pdf (глава 14)\n",
    "\n",
    "\n",
    "\n",
    "**Оформление дз**: \n",
    "- Присылайте выполненное задание на почту ``ml.course.mipt@gmail.com``\n",
    "- Укажите тему письма в следующем формате ``ML2017_fall <номер_группы> <фамилия>``, к примеру -- ``ML2017_fall 496 ivanov``\n",
    "- Выполненное дз сохраните в файл ``<фамилия>_<группа>_task<номер задания>.ipnb``, к примеру -- ``ML2017_496_task1.ipnb``\n",
    "\n",
    "**Вопросы**:\n",
    "- Присылайте вопросы на почту ``ml.course.mipt@gmail.com``\n",
    "- Укажите тему письма в следующем формате ``ML2016_fall Question <Содержание вопроса>``\n",
    "\n",
    "--------\n",
    "- **PS1**: Используются автоматические фильтры, и просто не найдем ваше дз, если вы не аккуратно его подпишите.\n",
    "- **PS2**: Дедлайн жесткий, в том числе помтоу что это ДЗ последнее в курсе. "
   ]
  },
  {
   "cell_type": "markdown",
   "metadata": {},
   "source": [
    "<h1 align=\"center\">Контрольные вопросы (0 % - для самоконтроля) </h1> "
   ]
  },
  {
   "cell_type": "markdown",
   "metadata": {},
   "source": [
    "Ответе на вопросы своими словами (загугленный материал надо пересказать), ответ обоснуйте (напишите и ОБЪЯСНИТЕ формулки если потребуется), если не выходит, то вернитесь к лекции дополнительным материалам:\n",
    "\n",
    "**Вопрос 1**: В чём заключается проблема мультиколлинеарности? <br>\n",
    "Если признаков много, то часть из них может быть (с какой-то точностью) представима в виде линейной комбинации других признаков. Иначе - собственные значения матрицы $F^TF$ (где F - матрица признаков) близки к нулю. Это влечет за собой неустойчивость решения, т.е. переобучение.\n",
    "\n",
    "**Вопрос 2**: Какие проблемы при обучении алгоритмов возникают из-за большой разамерности пространства признаков?<br>\n",
    "Вышеуказанная мультиколлинеарность, проклятие размерности и плохая интерпретируемость данных.\n",
    "\n",
    "**Вопрос 3**: В чем суть проклятия размерности?<br>\n",
    "Чем больше размерность пространства, тем больше точек требуется для задания, например, разделяющей поверхности между классами (объем области пространства растет экспоненциально, и, следовательно, требуемое число точек, выделяющих в этом объеме какие-либо области растет экспоненциально).   \n",
    "\n",
    "** Вопрос 4**: Какая связь между решением задачи PCA и SVD-разложение матрицы регрессии?<br>\n",
    "Если при решении задачи PCA размерность образа сделать равной размерности исходного пространства, то $F=\\hat{F}=GU^T, G=VD$, то есть преобразование совпадает с сингулярным разложением. При этом так как $G^TG = \\Lambda$, признаки некоррелированы $\\Rightarrow$ преобразование называется декоррелирующим. \n",
    "\n",
    "** Вопрос 5**: Почему в tSNE расстояние между парамми объектов измеряется \"по-стьюденту\" и как это помогает решить проблему \"скрученности\" (crowding problem)? <br>\n",
    "Проблема скрученности заключается в том, что мы не можем с достаточной точностью отобразить на плоскости расстояния между точками в многомерном пространстве (например, в десятимерном пространстве можно указать 11 точек на одинаковом расстоянии друг от друга, но в двумерном этого сделать нельзя), причем чем больше расстояния, тем выше ошибка отображения. В tSNE градиент оптимизируемого расстояния Кульбака-Лейблера одличается от градиента в SNE наличием множителя $(1 + ||y_i - y_j||^2)^{-1}$, то есть накладывается дополнительный штраф, если не похожие по распределению в многомерном пространстве точки на плоскости отображаются близко, и уменьшается штраф на \"непохожесть\" для далеко расположенных на плоскости точек.\n",
    "\n",
    "**Вопрос 6**: На какой идее базируются алгоритмы аггломеративной кластеризации? Напишите формулу Ланса-Вильма <br>\n",
    "Идея: мы можем задать расстояние между кластерами, причем чем оно меньше, тем больше шансов хорошо (с точки зрения введенной метрики качества) слить эти кластеры в один. <br>\n",
    "Формула Ланса-Вильма: <br>\n",
    "$R(U \\cup V, S) = \\alpha_UR(U, S) + \\alpha_VR(V, S) + \\beta(U, V) + \\gamma|R(U, S) - R(V, S)|$\n",
    "\n",
    "**Вопрос 7**: Какие два шага выделяют в алгоритме кластеризации k-means? <br>\n",
    "    1)выбрать новые центры кластеров (на первом шаге - рандомно, далее - как центры масс существующих на данный момент кластеров). <br>\n",
    "    2) Разбить на новые кластеры, относя каждую точку к ближайшему центру.\n",
    "\n",
    "**Вопрос 8**: В чём отличия (основные упрощения) k-means от EM-алгоритма кластеризации? <br>\n",
    "Если в ЕМ-алгоритме принять матрицу $\\sum$ равной единичной и сделать веса компонент смеси одинаковыми, то на E-шаге класс точки будет определяться ближайшим центром, а на M-шаге будут оптимизироваться только центры кластеров, следовательно, получим k-means.\n",
    "\n",
    "** Вопрос 9 **Какой принцип работы графовых алгоритмов кластеризации? <br>\n",
    "Сначала каким либо принципом формируем граф с объектами выборки в вершинах и длиной ребер, равной расстоянию между объектами, затем по какому либо принципу эти ребра удаляем до тех пор, пока не получим несколько связных подграфов, которые и называем кластерами.\n",
    "\n",
    "** Вопрос 10 **  В чем некорректность постановки задачи кластеризации?\n",
    "Нет точной постановки задачи, нет единой метрики качества кластеризации, не понятно заранее, какое количество кластеров выделять, результаты сильно зависят от субъективно задаваемой метрики качества и используемого эвристического алгоритма.\n",
    "\n",
    "-----------\n",
    "PS: Если проверяющий не понял ответ на большинство вопросов, то будет пичалька. Пишите так, чтобы можно было разобраться. "
   ]
  },
  {
   "cell_type": "markdown",
   "metadata": {
    "collapsed": true
   },
   "source": [
    "<h1 align=\"center\">Вопросы по теории (30%) </h1> "
   ]
  },
  {
   "cell_type": "markdown",
   "metadata": {},
   "source": [
    "** Задача 1 ** \n",
    "Ответьте на вопросы:<br>\n",
    " 1) Как можно не прибегая к визуализации понять, что кластерная структура у данного облака точек отсутствует?<br>\n",
    " 2) Какие из алгоритмов кластеризации могут выделять кластеры с ленточной структурой? <br>\n",
    " 3) Какие алгоритмы кластеризации чувствительны к шуму и перемычкам?<br>\n",
    " 4) Каким образом приближают «центр кластера» в нелинейных пространствах?<br>\n",
    " 5) Каким образом можно определять число кластеров?<br>\n",
    " \n",
    " 1) Если применяя несколько раз один и тот же стохастический алгоритм (или не стохастический, но на случайной части данных) получаем кардинально разные разбиения - значит, кластерной структуры нет.<br>\n",
    " 2) Графовые (КНП, связн. компоненты), ФОРЭЛ, DBSCAN <br>\n",
    " 3) k-means, EM-алгоритм, ФОРЭЛ, графовые (КНП, связн. компоненты) <br>\n",
    " 4) $x=min_x \\sum ||x - x_i||$<br>\n",
    " 5) Можно поприменять несколько разных алгоритмов или один и тот же стохастический алгоритм несколько раз для разбиения на одно и то же количество кластеров. Если раз за разом мы получаем примерно одно и то же разбиение - значит, число кластеров определено корректно.<br>\n",
    "     Так же можно смотреть на выбранный критерий качества, то количество кластеров, при котором его значение выше и будет наилучшим.<br>\n",
    "** Задача 2 **\n",
    "Даны пять точек на числовой оси $X = (1; 5; 7; 8; 8)$, число кластеров равно 2. Рассчитайте ответ алгоритма  K-means (финальные центры кластеров), если начальные центры кластеров c1 = 1, c2 = 10. <br>\n",
    "Распишем по шагам: \n",
    "<pre>\n",
    "Шаг 1: \n",
    "    центры: 1, 10\n",
    "    кластеры: (1, 5), (7, 8, 8)\n",
    "    \n",
    "Шаг 2: \n",
    "    центры: 3, 7.66\n",
    "    кластеры: (1, 5), (7, 8, 8)\n",
    "</pre>\n",
    "\n",
    "На шаге 2 разделение на кластеры такое же, как на шаге 1 $\\Rightarrow$ далее меняться не будет.\n",
    "\n",
    "** Задача 3 **\n",
    "Докажите, что the k-means всегда сходится. <br>\n",
    "k-means минимизирует среднеквадратичное отклонение, причем на каждом шаге оно не увеличивается. Действительно, рассмотрим отдельную итерацию. Имеем заданное положение центров и разбиение на кластеры. Пересчитаем центры и разбиение и рассмотрим отдельно точки, оставшиеся в своих кластерах и точки, сменившие кластер. Для оставшихся среднеквадратичное отклонение, очевидно, уменьшилось (центры кластеров переместились в центры масс, а это как раз минимизация отклонения). Но для перешедших отклонение так же уменьшилось: оно бы стало меньше исходного, если бы они остались в исходном кластере, но смена кластера означает, что нашелся другой центр еще ближе, чем исходный. <br>\n",
    "Итак, на каждом шаге среднеквадратичное отклонение уменьшается. Но число разбиений конечного числа элементов конечное, следовательно, к какому-то разбиению мы сойдемся.\n",
    "\n",
    "** Задача 4 **\n",
    "Для сжатия размерности пространства алгоритм PCA применяется датасету с количеством признаков $D = 100$. Наблюдается следующий спектр собственных значений матрицы объектов-признаков. \n",
    "<img src=\"PCA_lambda.PNG\" width=\"600\">\n",
    "Ответье на вопросы\n",
    "\n",
    "* 1) Высокая ли эффективная размерность пространства признаков (intrinsic dimensionality) (насколько она близка к 100)?\n",
    "* 2) Можно ли перевести датасет с помощью PCA в пространство меньшей размерности с минимальными потерями точности? Если да, то чему примерно будет равна размернось \n",
    "\n",
    "Значения $\\alpha$ хорошо аппроксимируются прямой f(n) = -0.011n + 1.6 = $\\alpha$. Соответственно, качество снижения размерности будет примерно равно $\\frac{-0.0055n^2 + 1.6n}{-0.0055*100^2 + 1.6*100}=\\frac{-0.0055n^2 + 1.6n}{105}$"
   ]
  },
  {
   "cell_type": "code",
   "execution_count": 2,
   "metadata": {
    "collapsed": false
   },
   "outputs": [
    {
     "data": {
      "image/png": "[encoded data removed]",
      "text/plain": [
       "<matplotlib.figure.Figure at 0x7f42f95205d0>"
      ]
     },
     "metadata": {},
     "output_type": "display_data"
    }
   ],
   "source": [
    "import matplotlib.pyplot as plt\n",
    "import numpy as np\n",
    "x = np.arange(101)\n",
    "plt.plot(x, (-0.0055*x**2 + 1.6*x)/105)\n",
    "plt.show()"
   ]
  },
  {
   "cell_type": "markdown",
   "metadata": {},
   "source": [
    "На графике изображена оценка качества пространства в зависимости от размерности. Видно, что нигде нет резких перегибов - качество плавно переходит в 1 при приближении n к 100. Это значит, что в пространство меньшей размерности датасет может быть переведен только с большими потерями в точности."
   ]
  },
  {
   "cell_type": "markdown",
   "metadata": {},
   "source": [
    "<h2 align=\"center\">Практическое задание 1 (30%) </h2>\n",
    "Реализуйте PCA"
   ]
  },
  {
   "cell_type": "code",
   "execution_count": 51,
   "metadata": {
    "collapsed": false
   },
   "outputs": [],
   "source": [
    "import numpy as np\n",
    "import pylab as plt\n",
    "'''\n",
    "Performs the Principal Coponent analysis of the Matrix F\n",
    "Matrix must be n * l dimensions\n",
    "where n is # features\n",
    "l is # samples\n",
    "'''\n",
    "\n",
    "def PCA(F, varRetained = 0.95, show = False):\n",
    "    # Input\n",
    "    #     F - initaial matrix \n",
    "    # Compute Covariance Matrix Sigma\n",
    "    # Input\n",
    "    (n, l) = F.shape\n",
    "    Sigma = 1.0 / l * np.dot(F, np.transpose(F))\n",
    "    # Compute eigenvectors and eigenvalues of Sigma by SVD\n",
    "    # U, V - matrix, d - array: Sigma = U * np.diag(d) * V\n",
    "    U, d, V = np.linalg.svd(Sigma)\n",
    "#     U, d, V = np.linalg.svd(F)\n",
    "\n",
    "\n",
    "    # compute the value m: number of minumum features that retains the given variance varRetaine\n",
    "    dTot = np.sum(d)\n",
    "    var_i = np.array([np.sum(d[: i + 1]) / \\\n",
    "                dTot * 100.0 for i in range(n)])\n",
    "    m = len([x for x in var_i if x < varRetained*100]) + 1\n",
    "    print '{:.2f} %% variance retained in {} dimensions'.format(var_i[m-1], m)\n",
    "    # plot the variance plot\n",
    "    if show:\n",
    "        plt.plot(var_i)\n",
    "        plt.xlabel('Number of Features')\n",
    "        plt.ylabel(' Percentage Variance retained')\n",
    "        plt.title('PCA $\\% \\sigma^2 $ vs # features')\n",
    "        plt.show()\n",
    "\n",
    "    # compute the reduced dimensional features by projection\n",
    "    U_reduced = U[:,:m]#только m главных компонент\n",
    "    G = np.dot(np.transpose(F), U_reduced)#вычислить матрицу в преобразованном пространстве\n",
    "\n",
    "    return G, U_reduced"
   ]
  },
  {
   "cell_type": "code",
   "execution_count": 27,
   "metadata": {
    "collapsed": true
   },
   "outputs": [],
   "source": [
    "# Примените алгоритм к данным MNIST\n",
    "from sklearn.model_selection import train_test_split\n",
    "\n",
    "from sklearn.datasets import load_digits\n",
    "X, y = load_digits(return_X_y=True)\n",
    "X_train, X_test, Y_train, Y_test = train_test_split(X, y, train_size=0.7)"
   ]
  },
  {
   "cell_type": "code",
   "execution_count": 52,
   "metadata": {
    "collapsed": false
   },
   "outputs": [
    {
     "name": "stdout",
     "output_type": "stream",
     "text": [
      "Performing PCA - Principal COmponent Analysis\n",
      "95.25 %% variance retained in 16 dimensions\n"
     ]
    },
    {
     "data": {
      "image/png": "[encoded data removed]",
      "text/plain": [
       "<matplotlib.figure.Figure at 0x7f307f7dbe10>"
      ]
     },
     "metadata": {},
     "output_type": "display_data"
    }
   ],
   "source": [
    "#################################################################\n",
    "# PCA of training set\n",
    "print 'Performing PCA - Principal COmponent Analysis'\n",
    "\n",
    "Z, U_reduced = PCA(X.T, varRetained = 0.95, show = True)"
   ]
  },
  {
   "cell_type": "code",
   "execution_count": 53,
   "metadata": {
    "collapsed": false
   },
   "outputs": [
    {
     "name": "stdout",
     "output_type": "stream",
     "text": [
      "[[ -4.58612772e+01  -1.19211574e+00  -2.11000593e+01 ...,  -2.06434074e+00\n",
      "   -2.26130810e+00  -6.24508973e-01]\n",
      " [ -5.55296793e+01   7.86176977e+00   2.04871986e+01 ...,  -6.51808622e+00\n",
      "    2.15158190e+00   7.64504972e-01]\n",
      " [ -5.58278837e+01   6.91459576e+00   9.66245273e+00 ...,   5.24417247e+00\n",
      "   -6.22354907e-01   3.76946877e+00]\n",
      " ..., \n",
      " [ -6.55269853e+01   1.06587286e+01   6.29456080e+00 ...,   2.16217854e+00\n",
      "   -5.14328342e+00   5.36833368e+00]\n",
      " [ -5.86061659e+01  -4.91125210e+00  -1.27231523e+01 ...,  -8.76526739e+00\n",
      "   -1.34621991e+01   4.48686734e-02]\n",
      " [ -6.44482310e+01  -4.55513470e-01  -7.04184347e+00 ...,   7.50531990e+00\n",
      "   -4.69903541e+00  -3.29625735e-01]]\n",
      "[[ 0.          0.          0.         ...,  0.          0.          0.        ]\n",
      " [-0.00577193 -0.01736194  0.0098574  ...,  0.02193748 -0.01576565\n",
      "   0.00147984]\n",
      " [-0.10069602 -0.2242008   0.04480717 ...,  0.13329258 -0.06654696\n",
      "  -0.14158377]\n",
      " ..., \n",
      " [-0.13088512 -0.09012861 -0.18321057 ...,  0.07714815  0.01982268\n",
      "  -0.02043831]\n",
      " [-0.03923437 -0.03684109 -0.02149533 ...,  0.11038973  0.08762639\n",
      "  -0.14644307]\n",
      " [-0.00676005 -0.01151507  0.00640454 ..., -0.00490861  0.03874361\n",
      "  -0.08259046]]\n"
     ]
    }
   ],
   "source": [
    "print Z\n",
    "print U_reduced"
   ]
  },
  {
   "cell_type": "markdown",
   "metadata": {},
   "source": [
    "<h1 align=\"center\"><h2 align=\"center\">Практическое задание 2 (40%) </h2> </h1>"
   ]
  },
  {
   "cell_type": "markdown",
   "metadata": {},
   "source": [
    "<h2 align=\"left\">Изучение алгоритмов кластеризации на разных выборках</h2>\n",
    "\n",
    "### Кластеризация цифр с помощью dbscan\n",
    "На данных из sklearn.datasets.load_digits примените алгоритмы кластеризации (знания о метках классов при кластеризации использовать нельзя):\n",
    " - <a href='http://scikit-learn.org/stable/modules/generated/sklearn.cluster.DBSCAN.html#sklearn.cluster.DBSCAN'>dbscan </a> \n",
    " запускайте при различных параметрах eps и minsamples, для всех экспериментов можете выбрать одну метрику (вспомните семинар про  метрические алгоритмы);\n",
    " - Используя метки классов цифр, оцените качество различных кластеризаций при помощи Adjusted Mutual Information и Adjusted Rand Index. \n",
    " - визуалируйте изображения тех цифр, которые соответствуют core_points;\n",
    " - визуалируйте изображения тех цифр, которые соответствуют выбросам;\n",
    " - сделайте выводы и применимости алгоритмов.\n",
    "\n",
    "### Уменьшение палитры изображения\n",
    " - для <a href=\"https://thumbs.dreamstime.com/x/two-lorikeet-birds-2293918.jpg\"> картинки </a> \n",
    "нужно уменьшить число цветов в палитре; для этого нужно выделить кластеры в пространстве RGB, объекты соответствуют пикселам изображения; после выделения кластеров,\n",
    "все пикселы, отнесенные в один кластер, заполняются одним цветом; этот цвет может быть центроидом соответствующего кластера, медианным цветом по кластеру. \n",
    " - Попробуйте различные алгоритмы кластеризации:\n",
    "        -- KMeans\n",
    "        -- MeanShift\n",
    "        -- AgglomerativeClustering\n",
    "   Рассмотрите число кластеров K = 2, 3, 10, 20\n",
    " - Для различных кластеризаций оцените и сравните потери от уменьшения цветов при помощи\n",
    "метрики <a href=\"http://scikit-image.org/docs/dev/api/skimage.measure.html\"> SSIM</a>. Какой способ оказался лучшим?"
   ]
  },
  {
   "cell_type": "code",
   "execution_count": 56,
   "metadata": {
    "collapsed": false
   },
   "outputs": [],
   "source": [
    "from sklearn.datasets import load_digits\n",
    "data = load_digits()"
   ]
  },
  {
   "cell_type": "code",
   "execution_count": 67,
   "metadata": {
    "collapsed": false
   },
   "outputs": [],
   "source": [
    "X, y = data.data, data.target "
   ]
  },
  {
   "cell_type": "code",
   "execution_count": 68,
   "metadata": {
    "collapsed": false
   },
   "outputs": [
    {
     "name": "stdout",
     "output_type": "stream",
     "text": [
      "[-1 -1 -1 ..., -1 -1 -1]\n"
     ]
    }
   ],
   "source": [
    "from sklearn.metrics.cluster import adjusted_mutual_info_score, adjusted_rand_score\n",
    "from sklearn.cluster import DBSCAN\n",
    "db = DBSCAN()\n",
    "print db.fit_predict(X)"
   ]
  },
  {
   "cell_type": "code",
   "execution_count": 69,
   "metadata": {
    "collapsed": false
   },
   "outputs": [
    {
     "name": "stdout",
     "output_type": "stream",
     "text": [
      "[-1]\n"
     ]
    }
   ],
   "source": [
    "import scipy as sc\n",
    "print sc.unique(db.fit_predict(X))"
   ]
  },
  {
   "cell_type": "code",
   "execution_count": null,
   "metadata": {
    "collapsed": true
   },
   "outputs": [],
   "source": []
  }
 ],
 "metadata": {
  "anaconda-cloud": {},
  "kernelspec": {
   "display_name": "Python 2",
   "language": "python",
   "name": "python2"
  },
  "language_info": {
   "codemirror_mode": {
    "name": "ipython",
    "version": 2
   },
   "file_extension": ".py",
   "mimetype": "text/x-python",
   "name": "python",
   "nbconvert_exporter": "python",
   "pygments_lexer": "ipython2",
   "version": "2.7.13"
  }
 },
 "nbformat": 4,
 "nbformat_minor": 0
}
