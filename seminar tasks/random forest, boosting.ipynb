{
 "cells": [
  {
   "cell_type": "code",
   "execution_count": 1,
   "metadata": {
    "collapsed": false
   },
   "outputs": [],
   "source": [
    "from sklearn.tree import DecisionTreeRegressor, DecisionTreeClassifier\n",
    "from sklearn.model_selection import cross_val_score\n",
    "from sklearn.base import BaseEstimator\n",
    "from sklearn.datasets import make_regression, make_classification\n",
    "\n",
    "import numpy as np\n",
    "import matplotlib.pyplot as plt\n",
    "%matplotlib inline"
   ]
  },
  {
   "cell_type": "code",
   "execution_count": 27,
   "metadata": {
    "collapsed": false
   },
   "outputs": [],
   "source": [
    "def bootstrap(X, y):\n",
    "    indexes = np.random.randint(len(X), size=len(X)) \n",
    "    return np.array([X[i] for i in indexes]), np.array([y[i] for i in indexes]) \n",
    "\n",
    "def random_subspace_method(X, p=1.0):\n",
    "    X = np.transpose(X)\n",
    "    return np.transpose(np.array([X[i] for i in range(len(X)) if np.random.random() <= p]))"
   ]
  },
  {
   "cell_type": "code",
   "execution_count": 29,
   "metadata": {
    "collapsed": false
   },
   "outputs": [],
   "source": [
    "X = np.arange(16).reshape(4, 4)\n",
    "y = np.arange(4)\n",
    "\n",
    "assert type(bootstrap(X, y)[0]) == np.ndarray, \"wrong return type of X\"\n",
    "assert type(bootstrap(X, y)[1]) == np.ndarray, \"wrong return type of y\"\n",
    "assert bootstrap(X, y)[0].shape == X.shape, \"wrong shape of X\"\n",
    "assert bootstrap(X, y)[1].shape == y.shape, \"wrong shape of y\"\n",
    "\n",
    "assert type(random_subspace_method(X)) == np.ndarray, \"wrong return type\"\n",
    "assert random_subspace_method(X).shape == X.shape, \"wrong size\"\n",
    "assert random_subspace_method(X, p=0.5).shape == (4, 2), \"wrong size\"\n",
    "assert np.all(np.unique(random_subspace_method(X)) == np.unique(X)), \"duplicating features (or smth even worse)\""
   ]
  },
  {
   "cell_type": "code",
   "execution_count": 35,
   "metadata": {
    "collapsed": true
   },
   "outputs": [],
   "source": [
    "class BrandNewRandomForestClassifier(BaseEstimator):\n",
    "    def __init__(self, num_iterations=100, max_depth=6):\n",
    "        self.num_iterations = num_iterations\n",
    "        self.max_depth = max_depth\n",
    "        \n",
    "    def fit(self, X, y):\n",
    "        self.estimators = []\n",
    "        for iter_num in range(self.num_iterations):\n",
    "            # BEGIN OF YOUR CODE\n",
    "            X_iter, y_iter = bootstrap(random_subspace_method(X, 1), y)\n",
    "            \n",
    "            new_estimator = DecisionTreeClassifier(max_depth=self.max_depth)\n",
    "            new_estimator.fit(X_iter, y_iter)\n",
    "            \n",
    "            # END OF YOUR CODE\n",
    "            \n",
    "            self.estimators.append(new_estimator)\n",
    "            \n",
    "    def predict_proba(self, X):\n",
    "        probas = []\n",
    "        \n",
    "        for estimator in self.estimators:\n",
    "            probas.append(estimator.predict_proba(X))\n",
    "        \n",
    "        return np.dstack(probas).mean(axis=2)"
   ]
  },
  {
   "cell_type": "code",
   "execution_count": 31,
   "metadata": {
    "collapsed": false
   },
   "outputs": [
    {
     "data": {
      "text/plain": [
       "-4.5713086405028855"
      ]
     },
     "execution_count": 31,
     "metadata": {},
     "output_type": "execute_result"
    }
   ],
   "source": [
    "from sklearn.datasets import make_classification\n",
    "\n",
    "X, y = make_classification()\n",
    "np.mean(cross_val_score(DecisionTreeClassifier(max_depth=6), X, y, cv=3, scoring='neg_log_loss'))"
   ]
  },
  {
   "cell_type": "code",
   "execution_count": 36,
   "metadata": {
    "collapsed": false
   },
   "outputs": [
    {
     "data": {
      "text/plain": [
       "-0.3053392529703679"
      ]
     },
     "execution_count": 36,
     "metadata": {},
     "output_type": "execute_result"
    }
   ],
   "source": [
    "np.mean(cross_val_score(BrandNewRandomForestClassifier(max_depth=6), X, y, cv=3, scoring='neg_log_loss'))"
   ]
  },
  {
   "cell_type": "code",
   "execution_count": 37,
   "metadata": {
    "collapsed": false
   },
   "outputs": [
    {
     "data": {
      "image/png": "[encoded data removed]",
      "text/plain": [
       "<matplotlib.figure.Figure at 0x7f40ffa77b50>"
      ]
     },
     "metadata": {},
     "output_type": "display_data"
    }
   ],
   "source": [
    "scores = []\n",
    "for iterations in [1] + range(5, 100, 10):\n",
    "    algo = BrandNewRandomForestClassifier(num_iterations=iterations)\n",
    "    scores.append(cross_val_score(algo, X, y, cv=3, scoring='neg_log_loss').mean())\n",
    "plt.plot(scores)\n",
    "_ = plt.xticks(range(10), [1] + range(5, 100, 10))"
   ]
  },
  {
   "cell_type": "code",
   "execution_count": 43,
   "metadata": {
    "collapsed": true
   },
   "outputs": [],
   "source": [
    "class SimpleGBRegressor(BaseEstimator):\n",
    "    def __init__(self, num_iterations=100, learning_rate=1e-1, max_depth=6):\n",
    "        self.num_iterations = num_iterations\n",
    "        self.learning_rate = learning_rate\n",
    "        self.max_depth = max_depth\n",
    "        \n",
    "    def fit(self, X, y):\n",
    "        self.estimators = []\n",
    "        curr_pred = np.zeros(y.shape)\n",
    "        for iter_num in range(self.num_iterations):\n",
    "            new_estimator = DecisionTreeRegressor(max_depth=self.max_depth)\n",
    "            new_estimator.fit(X, y-curr_pred)\n",
    "            self.estimators.append(new_estimator)\n",
    "            curr_pred += self.learning_rate*new_estimator.predict(X)\n",
    "    \n",
    "    def predict(self, X):\n",
    "        res = np.zeros(X.shape[0])\n",
    "        for estimator in self.estimators:\n",
    "            res += self.learning_rate * estimator.predict(X)\n",
    "        return res"
   ]
  },
  {
   "cell_type": "code",
   "execution_count": 39,
   "metadata": {
    "collapsed": false
   },
   "outputs": [
    {
     "data": {
      "text/plain": [
       "-19074.43246352996"
      ]
     },
     "execution_count": 39,
     "metadata": {},
     "output_type": "execute_result"
    }
   ],
   "source": [
    "X_data, y_data = make_regression(n_samples=1000, noise=100, n_features=10, random_state=42)\n",
    "np.mean(cross_val_score(DecisionTreeRegressor(max_depth=6), X_data, y_data, cv=3, scoring='neg_mean_squared_error'))"
   ]
  },
  {
   "cell_type": "code",
   "execution_count": 44,
   "metadata": {
    "collapsed": false,
    "scrolled": true
   },
   "outputs": [
    {
     "data": {
      "text/plain": [
       "-12380.26286301332"
      ]
     },
     "execution_count": 44,
     "metadata": {},
     "output_type": "execute_result"
    }
   ],
   "source": [
    "algo = SimpleGBRegressor(num_iterations=50, learning_rate = 0.1, max_depth=6)\n",
    "np.mean(cross_val_score(algo, X_data, y_data, cv=3, scoring='neg_mean_squared_error'))"
   ]
  },
  {
   "cell_type": "code",
   "execution_count": 45,
   "metadata": {
    "collapsed": false
   },
   "outputs": [
    {
     "data": {
      "text/plain": [
       "[<matplotlib.lines.Line2D at 0x7f40fc2a1590>]"
      ]
     },
     "execution_count": 45,
     "metadata": {},
     "output_type": "execute_result"
    },
    {
     "data": {
      "image/png": "[encoded data removed]",
      "text/plain": [
       "<matplotlib.figure.Figure at 0x7f40ff7af1d0>"
      ]
     },
     "metadata": {},
     "output_type": "display_data"
    }
   ],
   "source": [
    "scores = []\n",
    "for iterations in range(30):\n",
    "    algo = SimpleGBRegressor(num_iterations=iterations, learning_rate=0.2)\n",
    "    scores.append(cross_val_score(algo, X_data, y_data, cv=3, scoring='neg_mean_squared_error').mean())\n",
    "plt.plot(scores)"
   ]
  },
  {
   "cell_type": "code",
   "execution_count": null,
   "metadata": {
    "collapsed": true
   },
   "outputs": [],
   "source": []
  }
 ],
 "metadata": {
  "kernelspec": {
   "display_name": "Python 2",
   "language": "python",
   "name": "python2"
  },
  "language_info": {
   "codemirror_mode": {
    "name": "ipython",
    "version": 2
   },
   "file_extension": ".py",
   "mimetype": "text/x-python",
   "name": "python",
   "nbconvert_exporter": "python",
   "pygments_lexer": "ipython2",
   "version": "2.7.13"
  }
 },
 "nbformat": 4,
 "nbformat_minor": 0
}
